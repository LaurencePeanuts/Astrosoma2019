{
 "cells": [
  {
   "cell_type": "code",
   "execution_count": 1,
   "metadata": {},
   "outputs": [],
   "source": [
    "import numpy as np"
   ]
  },
  {
   "cell_type": "code",
   "execution_count": 2,
   "metadata": {},
   "outputs": [],
   "source": [
    "def g(x):\n",
    "    y = x**2.+3.4*x**4.-6.6*x**3.-4.\n",
    "    return y"
   ]
  },
  {
   "cell_type": "code",
   "execution_count": 3,
   "metadata": {},
   "outputs": [],
   "source": [
    "def g(x):\n",
    "    y = np.power(x,2.)-4.\n",
    "    return y"
   ]
  },
  {
   "cell_type": "code",
   "execution_count": 3,
   "metadata": {},
   "outputs": [],
   "source": [
    "class Two_Layer_NN:\n",
    "    def __init__(self,H):\n",
    "        self.W_1 = np.random.randn(1,H)\n",
    "        self.b_1 = np.random.randn(1,H)\n",
    "        self.W_2 = np.random.randn(H,1)\n",
    "        self.b_2 = np.random.randn(1,1)\n",
    "        \n",
    "        \n",
    "    def forward_pass(self, X):\n",
    "        self.h = X.dot(self.W_1)+self.b_1\n",
    "        self.hact = 1./(1.+np.exp(-self.h))\n",
    "        y_pred = self.hact.dot(self.W_2)+self.b_2\n",
    "        return y_pred\n",
    "    \n",
    "    def loss_fun(self, X, Y):\n",
    "        y_pred = self.forward_pass(X)\n",
    "        loss = np.square(Y-y_pred).sum()\n",
    "        return loss, y_pred\n",
    "    \n",
    "    def backward(self, X, Y):\n",
    "        loss, y_pred = self.loss_fun(X,Y)\n",
    "        \n",
    "        grad_y_pred = 2*(y_pred - Y)\n",
    "        grad_W2 = self.hact.T.dot(grad_y_pred) # d Loss/d y_pred * d y_pred/d W2\n",
    "        grad_b2 = grad_y_pred.sum() # d Loss/d y_pred * d y_pred/d b2\n",
    "        grad_hact = grad_y_pred.dot(self.W_2.T) # d Loss/d y_pred * d y_pred/d hact\n",
    "        grad_W1 = X.T.reshape(-1,1).dot(grad_hact*self.hact*(1-self.hact)) # d Loss/d y_pred * d y_pred/d hact *d hact/dh * dh/dW1\n",
    "        grad_b1 = (grad_hact*self.hact*(1-self.hact)).sum()\n",
    "        \n",
    "        \n",
    "        return grad_W1,  grad_b1,  grad_W2,  grad_b2 \n",
    "    \n",
    "    def gradient_descent(self, X, Y):\n",
    "        \n",
    "        grad_W1,  grad_b1,  grad_W2,  grad_b2 = self.backward(X,Y)\n",
    "        \n",
    "        \n",
    "        self.W_1 -= 5e-3 * grad_W1\n",
    "        self.b_1 -= 5e-3 * grad_b1\n",
    "        self.W_2 -= 5e-3 * grad_W2\n",
    "        self.b_2 -= 5e-3 * grad_b2\n",
    "        \n",
    "        \n",
    "        "
   ]
  },
  {
   "cell_type": "code",
   "execution_count": 4,
   "metadata": {},
   "outputs": [],
   "source": [
    "DeuxLNN = Two_Layer_NN(20)"
   ]
  },
  {
   "cell_type": "code",
   "execution_count": 5,
   "metadata": {},
   "outputs": [],
   "source": [
    "Xtr = np.random.uniform(low=0.0, high=2., size=(1000))\n",
    "Ytr = g(Xtr)"
   ]
  },
  {
   "cell_type": "code",
   "execution_count": 7,
   "metadata": {},
   "outputs": [
    {
     "data": {
      "text/plain": [
       "[<matplotlib.lines.Line2D at 0x10d79be10>]"
      ]
     },
     "execution_count": 7,
     "metadata": {},
     "output_type": "execute_result"
    },
    {
     "data": {
      "image/png": "[encoded data removed]",
      "text/plain": [
       "<Figure size 432x288 with 1 Axes>"
      ]
     },
     "metadata": {
      "needs_background": "light"
     },
     "output_type": "display_data"
    }
   ],
   "source": [
    "import matplotlib.pyplot as plt\n",
    "plt.plot(Xtr,Ytr, 'bo')"
   ]
  },
  {
   "cell_type": "code",
   "execution_count": 8,
   "metadata": {},
   "outputs": [
    {
     "data": {
      "text/plain": [
       "[<matplotlib.lines.Line2D at 0x10d822e10>]"
      ]
     },
     "execution_count": 8,
     "metadata": {},
     "output_type": "execute_result"
    },
    {
     "data": {
      "image/png": "[encoded data removed]",
      "text/plain": [
       "<Figure size 432x288 with 1 Axes>"
      ]
     },
     "metadata": {
      "needs_background": "light"
     },
     "output_type": "display_data"
    }
   ],
   "source": [
    "ypred = np.zeros_like(Ytr)\n",
    "for i in range(1000):\n",
    "    ypred[i] = DeuxLNN.forward_pass(Xtr[i].reshape(1,1))\n",
    "plt.plot(Xtr,ypred, 'bo')"
   ]
  },
  {
   "cell_type": "code",
   "execution_count": 10,
   "metadata": {},
   "outputs": [
    {
     "data": {
      "text/plain": [
       "[<matplotlib.lines.Line2D at 0x10d9e7f90>]"
      ]
     },
     "execution_count": 10,
     "metadata": {},
     "output_type": "execute_result"
    },
    {
     "data": {
      "image/png": "[encoded data removed]",
      "text/plain": [
       "<Figure size 432x288 with 1 Axes>"
      ]
     },
     "metadata": {
      "needs_background": "light"
     },
     "output_type": "display_data"
    }
   ],
   "source": [
    "for j in range(1000):\n",
    "    for i in range(1000):\n",
    "        DeuxLNN.gradient_descent(Xtr[i].reshape(1,1), Ytr[i].reshape(1,1))\n",
    "ypred_tr = np.zeros_like(Ytr)\n",
    "for i in range(1000):\n",
    "    ypred_tr[i] = DeuxLNN.forward_pass(Xtr[i].reshape(1,1))\n",
    "plt.plot(Xtr,ypred_tr, 'bo')"
   ]
  },
  {
   "cell_type": "code",
   "execution_count": 13,
   "metadata": {},
   "outputs": [],
   "source": [
    "Xtest=np.random.uniform(low=-1., high=3, size=(1000))\n",
    "Ytest = g(Xtest)"
   ]
  },
  {
   "cell_type": "code",
   "execution_count": 14,
   "metadata": {},
   "outputs": [
    {
     "data": {
      "text/plain": [
       "[<matplotlib.lines.Line2D at 0x10da9af10>]"
      ]
     },
     "execution_count": 14,
     "metadata": {},
     "output_type": "execute_result"
    },
    {
     "data": {
      "image/png": "[encoded data removed]",
      "text/plain": [
       "<Figure size 432x288 with 1 Axes>"
      ]
     },
     "metadata": {
      "needs_background": "light"
     },
     "output_type": "display_data"
    }
   ],
   "source": [
    "ypred_test = np.zeros_like(Ytest)\n",
    "for i in range(1000):\n",
    "    ypred_test[i] = DeuxLNN.forward_pass(Xtest[i].reshape(1,1))\n",
    "plt.plot(Xtest,ypred_test, 'bo')\n",
    "plt.plot(Xtest,g(Xtest), 'ro')\n"
   ]
  },
  {
   "cell_type": "code",
   "execution_count": 27,
   "metadata": {},
   "outputs": [],
   "source": []
  },
  {
   "cell_type": "code",
   "execution_count": null,
   "metadata": {},
   "outputs": [],
   "source": []
  },
  {
   "cell_type": "code",
   "execution_count": 3,
   "metadata": {},
   "outputs": [],
   "source": []
  },
  {
   "cell_type": "code",
   "execution_count": 53,
   "metadata": {},
   "outputs": [],
   "source": []
  }
 ],
 "metadata": {
  "kernelspec": {
   "display_name": "Python 2",
   "language": "python",
   "name": "python2"
  },
  "language_info": {
   "codemirror_mode": {
    "name": "ipython",
    "version": 2
   },
   "file_extension": ".py",
   "mimetype": "text/x-python",
   "name": "python",
   "nbconvert_exporter": "python",
   "pygments_lexer": "ipython2",
   "version": "2.7.15"
  }
 },
 "nbformat": 4,
 "nbformat_minor": 2
}
