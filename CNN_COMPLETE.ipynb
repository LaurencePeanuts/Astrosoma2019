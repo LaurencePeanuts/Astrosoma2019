{
 "cells": [
  {
   "cell_type": "code",
   "execution_count": 1,
   "metadata": {
    "collapsed": true
   },
   "outputs": [],
   "source": [
    "# import stuff\n",
    "import tensorflow as tf\n",
    "import numpy as np\n",
    "tf.enable_eager_execution()\n",
    "import matplotlib.pyplot as plt\n",
    "%matplotlib inline\n",
    "import tensorflow.contrib.eager as tfe\n",
    "import matplotlib.gridspec as gridspec"
   ]
  },
  {
   "cell_type": "code",
   "execution_count": 2,
   "metadata": {
    "collapsed": true
   },
   "outputs": [],
   "source": [
    "# a simple plotting function which plots 10 exmples along with their predictions\n",
    "def plot(samples,labels):\n",
    "    fig = plt.figure(figsize=(10, 4))\n",
    "    gs = gridspec.GridSpec(2, 5)\n",
    "    gs.update(wspace=None, hspace=None)\n",
    "\n",
    "    for i, sample in enumerate(samples):\n",
    "        ax = plt.subplot(gs[i])\n",
    "        plt.axis('off')\n",
    "        ax.set_xticklabels([])\n",
    "        ax.set_yticklabels([])\n",
    "        ax.set_aspect('equal')\n",
    "        plt.imshow(sample, cmap='Greys_r')\n",
    "        number = labels[i].numpy()\n",
    "        plt.title(str(number))\n",
    "    return"
   ]
  },
  {
   "cell_type": "code",
   "execution_count": 3,
   "metadata": {},
   "outputs": [],
   "source": [
    "# load the MNIST data using Keras\n",
    "mnist = tf.keras.datasets.mnist\n",
    "(x_train, y_train), (x_test, y_test) = mnist.load_data()"
   ]
  },
  {
   "cell_type": "code",
   "execution_count": 4,
   "metadata": {
    "collapsed": true
   },
   "outputs": [],
   "source": [
    "# define a function that scales 0-255 int images to 0-1 float pixel values\n",
    "def scale(x):\n",
    "    return tf.to_float(x) / 255.0"
   ]
  },
  {
   "cell_type": "code",
   "execution_count": 5,
   "metadata": {
    "collapsed": true
   },
   "outputs": [],
   "source": [
    "# construct a tensorflow Dataset object with iterators that allows going through all the training and test data easily\n",
    "train_ds = tf.data.Dataset.from_tensor_slices((x_train, y_train))\n",
    "train_ds = train_ds.map(lambda x, y: (scale(x), tf.one_hot(y, 10))).shuffle(10000).batch(30)\n",
    "test_dsD = tf.data.Dataset.from_tensor_slices((x_test, y_test))\n",
    "test_ds = test_dsD.map(lambda x, y: (scale(x), tf.one_hot(y, 10))).shuffle(10000).batch(30)"
   ]
  },
  {
   "cell_type": "code",
   "execution_count": 6,
   "metadata": {
    "collapsed": true
   },
   "outputs": [],
   "source": [
    "# Construct the model. In the inittialization section we define our layers and in the call we write the forward pass model\n",
    "class MNISTModel(tf.keras.Model):\n",
    "    def __init__(self):\n",
    "        super(MNISTModel, self).__init__()\n",
    "        self._input_shape = [-1, 28, 28, 1]\n",
    "        self.conv1 = tf.layers.Conv2D(32, 5, padding='same', activation=tf.nn.relu)\n",
    "        self.max_pool2d = tf.layers.MaxPooling2D((2, 2), (2, 2), padding='same')\n",
    "        self.conv2 = tf.layers.Conv2D(64, 5, padding='same', activation=tf.nn.relu)\n",
    "        self.fc1 = tf.layers.Dense(750, activation=tf.nn.relu)\n",
    "        self.dropout = tf.layers.Dropout(0.5)\n",
    "        self.fc2 = tf.layers.Dense(10)\n",
    "    \n",
    "    def call(self, x):\n",
    "        x = tf.reshape(x, self._input_shape)\n",
    "        x = self.conv1(x)\n",
    "        x = self.max_pool2d(x)\n",
    "        x = self.conv2(x)\n",
    "        x = self.max_pool2d(x)\n",
    "        x = tf.layers.flatten(x)\n",
    "        x = self.fc1(x)\n",
    "        x = self.dropout(x)\n",
    "        output = self.fc2(x)\n",
    "        return output"
   ]
  },
  {
   "cell_type": "code",
   "execution_count": 7,
   "metadata": {
    "collapsed": true
   },
   "outputs": [],
   "source": [
    "# Define our loss function\n",
    "def loss_fn(model, x, y):\n",
    "    return tf.reduce_mean(\n",
    "      tf.nn.softmax_cross_entropy_with_logits_v2(\n",
    "          logits=model(x), labels=y))"
   ]
  },
  {
   "cell_type": "code",
   "execution_count": 8,
   "metadata": {
    "collapsed": true
   },
   "outputs": [],
   "source": [
    "# An estimate of the accuracy, for the validation and test sets.\n",
    "def get_accuracy(model, x, y_true):\n",
    "    logits = model(x)\n",
    "    prediction = tf.argmax(logits, 1)\n",
    "    equality = tf.equal(prediction, tf.argmax(y_true, 1))\n",
    "    accuracy = tf.reduce_mean(tf.cast(equality, tf.float32))\n",
    "    return accuracy"
   ]
  },
  {
   "cell_type": "code",
   "execution_count": 11,
   "metadata": {
    "collapsed": true
   },
   "outputs": [],
   "source": [
    "# make an instance of our model\n",
    "model = MNISTModel()"
   ]
  },
  {
   "cell_type": "code",
   "execution_count": 9,
   "metadata": {
    "collapsed": true
   },
   "outputs": [],
   "source": [
    "# make an instance of an optimizer\n",
    "optimizer = tf.train.AdamOptimizer()"
   ]
  },
  {
   "cell_type": "code",
   "execution_count": 12,
   "metadata": {},
   "outputs": [
    {
     "name": "stdout",
     "output_type": "stream",
     "text": [
      "Iteration 0, loss: 1.971, train accuracy: 40.00%\n",
      "Iteration 10, loss: 0.881, train accuracy: 73.33%\n",
      "Iteration 20, loss: 0.344, train accuracy: 90.00%\n",
      "Iteration 30, loss: 0.376, train accuracy: 86.67%\n",
      "Iteration 40, loss: 0.192, train accuracy: 93.33%\n",
      "Iteration 50, loss: 0.413, train accuracy: 83.33%\n",
      "Iteration 60, loss: 0.185, train accuracy: 96.67%\n",
      "Iteration 70, loss: 0.326, train accuracy: 93.33%\n",
      "Iteration 80, loss: 0.153, train accuracy: 93.33%\n",
      "Iteration 90, loss: 0.377, train accuracy: 96.67%\n",
      "Iteration 100, loss: 0.091, train accuracy: 96.67%\n"
     ]
    }
   ],
   "source": [
    "# Train: go through the data, calculate the gradients and apply them to the network weights. As we do this\n",
    "# we also look at the accuracy of the network prediction for the training data at every 10 steps.\n",
    "epochs = 100\n",
    "for (batch, (images, labels)) in enumerate(train_ds):\n",
    "    with tfe.GradientTape() as tape:\n",
    "        loss = loss_fn(model, images, labels)\n",
    "    grads = tape.gradient(loss, model.variables)\n",
    "    optimizer.apply_gradients(zip(grads, model.variables), global_step=tf.train.get_or_create_global_step())\n",
    "    if batch % 10 == 0:\n",
    "        acc = get_accuracy(model, images, labels).numpy()\n",
    "        print(\"Iteration {}, loss: {:.3f}, train accuracy: {:.2f}%\".format(batch, loss_fn(model, images, labels).numpy(), acc*100))\n",
    "    if batch > epochs:\n",
    "        break"
   ]
  },
  {
   "cell_type": "code",
   "execution_count": 14,
   "metadata": {},
   "outputs": [
    {
     "name": "stdout",
     "output_type": "stream",
     "text": [
      "Iteration:100, Average test accuracy: 94.67%\n",
      "Iteration:200, Average test accuracy: 94.35%\n",
      "Iteration:300, Average test accuracy: 94.20%\n",
      "Final test accuracy: 94.37%\n"
     ]
    },
    {
     "data": {
      "image/png": "[encoded data removed]",
      "text/plain": [
       "<matplotlib.figure.Figure at 0x131ac9f10>"
      ]
     },
     "metadata": {},
     "output_type": "display_data"
    },
    {
     "data": {
      "image/png": "[encoded data removed]",
      "text/plain": [
       "<matplotlib.figure.Figure at 0x108097090>"
      ]
     },
     "metadata": {},
     "output_type": "display_data"
    },
    {
     "data": {
      "image/png": "[encoded data removed]",
      "text/plain": [
       "<matplotlib.figure.Figure at 0x131e545d0>"
      ]
     },
     "metadata": {},
     "output_type": "display_data"
    },
    {
     "data": {
      "image/png": "[encoded data removed]",
      "text/plain": [
       "<matplotlib.figure.Figure at 0x131b27690>"
      ]
     },
     "metadata": {},
     "output_type": "display_data"
    }
   ],
   "source": [
    "# test the performance of the network on the test set and plot a few examples\n",
    "avg_acc = 0\n",
    "for (batch, (images, labels)) in enumerate(test_ds):\n",
    "    logits = model(images)\n",
    "    prediction = tf.argmax(logits, 1)\n",
    "    avg_acc += get_accuracy(model, images, labels).numpy()\n",
    "    if batch % 100 == 0 and batch != 0:\n",
    "        plot(images[0:10],prediction[0:10])\n",
    "        print(\"Iteration:{}, Average test accuracy: {:.2f}%\".format(batch, (avg_acc/batch)*100))\n",
    "plot(images[0:10],prediction[0:10])\n",
    "print(\"Final test accuracy: {:.2f}%\".format(avg_acc/batch * 100))\n"
   ]
  },
  {
   "cell_type": "code",
   "execution_count": null,
   "metadata": {},
   "outputs": [],
   "source": []
  },
  {
   "cell_type": "code",
   "execution_count": null,
   "metadata": {
    "scrolled": true
   },
   "outputs": [],
   "source": []
  },
  {
   "cell_type": "code",
   "execution_count": null,
   "metadata": {
    "scrolled": true
   },
   "outputs": [],
   "source": []
  },
  {
   "cell_type": "code",
   "execution_count": null,
   "metadata": {},
   "outputs": [],
   "source": []
  },
  {
   "cell_type": "code",
   "execution_count": null,
   "metadata": {},
   "outputs": [],
   "source": []
  },
  {
   "cell_type": "code",
   "execution_count": null,
   "metadata": {
    "collapsed": true
   },
   "outputs": [],
   "source": []
  }
 ],
 "metadata": {
  "kernelspec": {
   "display_name": "Python 2",
   "language": "python",
   "name": "python2"
  },
  "language_info": {
   "codemirror_mode": {
    "name": "ipython",
    "version": 2
   },
   "file_extension": ".py",
   "mimetype": "text/x-python",
   "name": "python",
   "nbconvert_exporter": "python",
   "pygments_lexer": "ipython2",
   "version": "2.7.15"
  }
 },
 "nbformat": 4,
 "nbformat_minor": 2
}
