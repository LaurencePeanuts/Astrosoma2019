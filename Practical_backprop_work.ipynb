{
 "cells": [
  {
   "cell_type": "code",
   "execution_count": 1,
   "metadata": {},
   "outputs": [],
   "source": [
    "import numpy as np"
   ]
  },
  {
   "cell_type": "code",
   "execution_count": 2,
   "metadata": {},
   "outputs": [],
   "source": [
    "def g(x):\n",
    "    y = x**2.+3.4*x**4.-6.6*x**3.-4. # you can also try different functions\n",
    "    return y"
   ]
  },
  {
   "cell_type": "code",
   "execution_count": 3,
   "metadata": {},
   "outputs": [],
   "source": [
    "#l_rate = ... -> to determine\n",
    "#H= ... -> to determine\n",
    "\n",
    "class Two_Layer_NN:\n",
    "    def __init__(self,H):\n",
    "        self.W_1 = np.random.randn(1,H)\n",
    "        self.b_1 = np.random.randn(1,H)\n",
    "        self.W_2 = np.random.randn(H,1)\n",
    "        self.b_2 = np.random.randn(1,1)\n",
    "        \n",
    "        \n",
    "    def forward_pass(self, X):\n",
    "        #self.h = ... -> To do\n",
    "        #y_pred = ... -> To do\n",
    "        return y_pred\n",
    "    \n",
    "    def loss_fun(self, X, Y):\n",
    "        y_pred = self.forward_pass(X)\n",
    "        # loss = ... -> to do\n",
    "        print loss\n",
    "        return loss, y_pred\n",
    "    \n",
    "    def backward(self, X, Y):\n",
    "        loss, y_pred = self.loss_fun(X,Y)\n",
    "        \n",
    "        #workout the gradients!!\n",
    "        \n",
    "        #grad_y_pred = \n",
    "        #grad_W2 = \n",
    "        #grad_b2 = \n",
    "        #grad_W1 = \n",
    "        #grad_b1 = \n",
    "        return grad_W1,  grad_b1,  grad_W2,  grad_b2 \n",
    "    \n",
    "    def gradient_descent(self, X, Y):\n",
    "        \n",
    "        grad_W1,  grad_b1,  grad_W2,  grad_b2 = self.backward(X,Y)\n",
    "        \n",
    "        self.W_1 -= l_rate * grad_W1\n",
    "        self.b_1 -= l_rate * grad_b1\n",
    "        self.W_2 -= l_rate * grad_W2\n",
    "        self.b_2 -= l_rate * grad_b2\n",
    "        \n",
    "        \n",
    "        \n",
    "        "
   ]
  },
  {
   "cell_type": "code",
   "execution_count": 4,
   "metadata": {},
   "outputs": [],
   "source": [
    "DeuxLNN = Two_Layer_NN(H)"
   ]
  },
  {
   "cell_type": "code",
   "execution_count": 5,
   "metadata": {},
   "outputs": [],
   "source": [
    "Xtr = np.random.uniform(low=0.0, high=2., size=(...))#-> find what size training data is sufficient\n",
    "Ytr = g(Xtr)\n",
    "# You should also split your training set into training and validation"
   ]
  },
  {
   "cell_type": "code",
   "execution_count": 7,
   "metadata": {},
   "outputs": [
    {
     "data": {
      "text/plain": [
       "[<matplotlib.lines.Line2D at 0x1083263d0>]"
      ]
     },
     "execution_count": 7,
     "metadata": {},
     "output_type": "execute_result"
    },
    {
     "data": {
      "image/png": "[encoded data removed]",
      "text/plain": [
       "<Figure size 432x288 with 1 Axes>"
      ]
     },
     "metadata": {
      "needs_background": "light"
     },
     "output_type": "display_data"
    }
   ],
   "source": [
    "# You can plot the x values of the training set against the true y\n",
    "import matplotlib.pyplot as plt\n",
    "plt.plot(Xtr,Ytr, 'bo')"
   ]
  },
  {
   "cell_type": "code",
   "execution_count": null,
   "metadata": {},
   "outputs": [],
   "source": []
  },
  {
   "cell_type": "code",
   "execution_count": 9,
   "metadata": {},
   "outputs": [
    {
     "data": {
      "text/plain": [
       "[<matplotlib.lines.Line2D at 0x1084f21d0>]"
      ]
     },
     "execution_count": 9,
     "metadata": {},
     "output_type": "execute_result"
    },
    {
     "data": {
      "image/png": "[encoded data removed]",
      "text/plain": [
       "<Figure size 432x288 with 1 Axes>"
      ]
     },
     "metadata": {
      "needs_background": "light"
     },
     "output_type": "display_data"
    }
   ],
   "source": [
    "# do the actual training here\n",
    "for j in range(1000):\n",
    "    for i in range(...): #-> loop over training data. To make code more efficient, try to vetorize the NN object along \n",
    "                         # a mini batch size (it's more complicated so you dont have to for now)\n",
    "        DeuxLNN.gradient_descent(Xtr[i].reshape(1,1), Ytr[i].reshape(1,1))\n",
    "\n",
    "# You can visualize how your training is doing by evaluating a forward pass on your training set or by looking \n",
    "# at your loss on training and validation\n"
   ]
  },
  {
   "cell_type": "code",
   "execution_count": 10,
   "metadata": {},
   "outputs": [],
   "source": [
    "# Make a test set with Xtest Ytest"
   ]
  },
  {
   "cell_type": "code",
   "execution_count": 11,
   "metadata": {},
   "outputs": [
    {
     "data": {
      "text/plain": [
       "[<matplotlib.lines.Line2D at 0x1083aeed0>]"
      ]
     },
     "execution_count": 11,
     "metadata": {},
     "output_type": "execute_result"
    },
    {
     "data": {
      "image/png": "[encoded data removed]",
      "text/plain": [
       "<Figure size 432x288 with 1 Axes>"
      ]
     },
     "metadata": {
      "needs_background": "light"
     },
     "output_type": "display_data"
    }
   ],
   "source": [
    "#evaluate your performance on the test set, you can also explore how your NN manages to extrapolate!\n",
    "plt.plot(Xtest,ypred_test, 'bo')\n",
    "plt.plot(Xtest,g(Xtest), 'ro')\n"
   ]
  },
  {
   "cell_type": "code",
   "execution_count": 27,
   "metadata": {},
   "outputs": [],
   "source": []
  },
  {
   "cell_type": "code",
   "execution_count": null,
   "metadata": {},
   "outputs": [],
   "source": []
  }
 ],
 "metadata": {
  "kernelspec": {
   "display_name": "Python 2",
   "language": "python",
   "name": "python2"
  },
  "language_info": {
   "codemirror_mode": {
    "name": "ipython",
    "version": 2
   },
   "file_extension": ".py",
   "mimetype": "text/x-python",
   "name": "python",
   "nbconvert_exporter": "python",
   "pygments_lexer": "ipython2",
   "version": "2.7.15"
  }
 },
 "nbformat": 4,
 "nbformat_minor": 2
}
